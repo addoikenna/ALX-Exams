{
 "cells": [
  {
   "cell_type": "markdown",
   "id": "73f4894f-c4e0-45d3-a600-3ebe2994b36d",
   "metadata": {},
   "source": [
    "# The Solutions to ALX Python Exam"
   ]
  },
  {
   "cell_type": "code",
   "execution_count": 1,
   "id": "86dafe93-5d06-46c9-96fa-2157b8f04f0b",
   "metadata": {},
   "outputs": [],
   "source": [
    "import pandas as pd\n",
    "import numpy as np\n",
    "from matplotlib import pyplot as plt\n",
    "import seaborn as sns"
   ]
  },
  {
   "cell_type": "markdown",
   "id": "78a57a73-3d66-40d1-95b1-6f0b86f93ab1",
   "metadata": {},
   "source": [
    "### Question 31\n",
    "\n",
    "In NumPy arrays all data should be of the same type (1 mark)\n",
    "\n",
    "**True**"
   ]
  },
  {
   "cell_type": "markdown",
   "id": "7825b29c-60c3-4263-ae24-ad5d60f1f03f",
   "metadata": {},
   "source": [
    "### Question 32\n",
    "\n",
    "Which of the following statements about numpy arrays is false? (1 mark)\n",
    "\r",
    "**It is exactly the same as lists of lists**"
   ]
  },
  {
   "cell_type": "markdown",
   "id": "131ef337-6ea8-4f54-8b70-c09f42728df5",
   "metadata": {},
   "source": [
    "### Question 33\n",
    "\n",
    "Which of the following statements about pandas dataframes is false? (1 mark)\n",
    "\n",
    "**It usually consists of more than 2 dimensions**"
   ]
  },
  {
   "cell_type": "markdown",
   "id": "7933a4af-a74f-4019-938f-75eb751cf421",
   "metadata": {},
   "source": [
    "### Question 34\n",
    "\n",
    "How would you select the top left element in a 2-D numpy array a? (1 mark)\n",
    "\n",
    "**a[0,0]**"
   ]
  },
  {
   "cell_type": "markdown",
   "id": "15327110-21b9-4634-bf6c-111b1049e04e",
   "metadata": {},
   "source": [
    "### Question 35\n",
    "\n",
    "How would you add a row of entries 92, 88 and 78 to a 2-D numpy array a with dimensions of 3x3? (1 mark)\n",
    "\n",
    "**np.append(a, [[92, 88, 78]], axis=0)**"
   ]
  },
  {
   "cell_type": "markdown",
   "id": "45a072af-dede-4d3e-a6f9-e9b8567d96b1",
   "metadata": {},
   "source": [
    "### Question 36\n",
    "\n",
    "How would you select the 5th row of a Pandas DataFrame, df, with names as indices? (1 mark)\n",
    "\n",
    "**df.loc[4]**"
   ]
  },
  {
   "cell_type": "markdown",
   "id": "b3bc5b78-0e09-4300-8ae8-e204c775a448",
   "metadata": {},
   "source": [
    "### Question 37\n",
    "\n",
    "How would you create a new column to transform a column ‘Age’ from years to decades? (1 mark)\n",
    "\n",
    "**df[‘decades’] = df[‘Age’].apply(lambda x: x / 10)**"
   ]
  },
  {
   "cell_type": "code",
   "execution_count": 2,
   "id": "89991082-35dd-4d7b-8f01-a73cd9910954",
   "metadata": {},
   "outputs": [
    {
     "data": {
      "text/html": [
       "<div>\n",
       "<style scoped>\n",
       "    .dataframe tbody tr th:only-of-type {\n",
       "        vertical-align: middle;\n",
       "    }\n",
       "\n",
       "    .dataframe tbody tr th {\n",
       "        vertical-align: top;\n",
       "    }\n",
       "\n",
       "    .dataframe thead th {\n",
       "        text-align: right;\n",
       "    }\n",
       "</style>\n",
       "<table border=\"1\" class=\"dataframe\">\n",
       "  <thead>\n",
       "    <tr style=\"text-align: right;\">\n",
       "      <th></th>\n",
       "      <th>Name</th>\n",
       "      <th>Age</th>\n",
       "      <th>Nationality</th>\n",
       "      <th>Overall</th>\n",
       "      <th>Acceleration</th>\n",
       "      <th>Aggression</th>\n",
       "      <th>Agility</th>\n",
       "      <th>Balance</th>\n",
       "      <th>Ball control</th>\n",
       "      <th>Composure</th>\n",
       "      <th>...</th>\n",
       "      <th>Shot power</th>\n",
       "      <th>Sliding tackle</th>\n",
       "      <th>Sprint speed</th>\n",
       "      <th>Stamina</th>\n",
       "      <th>Standing tackle</th>\n",
       "      <th>Strength</th>\n",
       "      <th>Vision</th>\n",
       "      <th>Volleys</th>\n",
       "      <th>Preferred Positions</th>\n",
       "      <th>Preferred Positions Type</th>\n",
       "    </tr>\n",
       "  </thead>\n",
       "  <tbody>\n",
       "    <tr>\n",
       "      <th>0</th>\n",
       "      <td>Cristiano Ronaldo</td>\n",
       "      <td>32</td>\n",
       "      <td>Portugal</td>\n",
       "      <td>94.0</td>\n",
       "      <td>89.0</td>\n",
       "      <td>63.0</td>\n",
       "      <td>89.0</td>\n",
       "      <td>63.0</td>\n",
       "      <td>93.0</td>\n",
       "      <td>95.0</td>\n",
       "      <td>...</td>\n",
       "      <td>94.0</td>\n",
       "      <td>23.0</td>\n",
       "      <td>91.0</td>\n",
       "      <td>92.0</td>\n",
       "      <td>31.0</td>\n",
       "      <td>80.0</td>\n",
       "      <td>85.0</td>\n",
       "      <td>88.0</td>\n",
       "      <td>ST LW</td>\n",
       "      <td>Forward</td>\n",
       "    </tr>\n",
       "    <tr>\n",
       "      <th>1</th>\n",
       "      <td>L. Messi</td>\n",
       "      <td>30</td>\n",
       "      <td>Argentina</td>\n",
       "      <td>93.0</td>\n",
       "      <td>92.0</td>\n",
       "      <td>48.0</td>\n",
       "      <td>90.0</td>\n",
       "      <td>95.0</td>\n",
       "      <td>95.0</td>\n",
       "      <td>96.0</td>\n",
       "      <td>...</td>\n",
       "      <td>85.0</td>\n",
       "      <td>26.0</td>\n",
       "      <td>87.0</td>\n",
       "      <td>73.0</td>\n",
       "      <td>28.0</td>\n",
       "      <td>59.0</td>\n",
       "      <td>90.0</td>\n",
       "      <td>85.0</td>\n",
       "      <td>RW</td>\n",
       "      <td>Forward</td>\n",
       "    </tr>\n",
       "    <tr>\n",
       "      <th>2</th>\n",
       "      <td>Neymar</td>\n",
       "      <td>25</td>\n",
       "      <td>Brazil</td>\n",
       "      <td>92.0</td>\n",
       "      <td>94.0</td>\n",
       "      <td>56.0</td>\n",
       "      <td>96.0</td>\n",
       "      <td>82.0</td>\n",
       "      <td>95.0</td>\n",
       "      <td>92.0</td>\n",
       "      <td>...</td>\n",
       "      <td>80.0</td>\n",
       "      <td>33.0</td>\n",
       "      <td>90.0</td>\n",
       "      <td>78.0</td>\n",
       "      <td>24.0</td>\n",
       "      <td>53.0</td>\n",
       "      <td>80.0</td>\n",
       "      <td>83.0</td>\n",
       "      <td>LW</td>\n",
       "      <td>Forward</td>\n",
       "    </tr>\n",
       "    <tr>\n",
       "      <th>3</th>\n",
       "      <td>L. Suárez</td>\n",
       "      <td>30</td>\n",
       "      <td>Uruguay</td>\n",
       "      <td>92.0</td>\n",
       "      <td>88.0</td>\n",
       "      <td>78.0</td>\n",
       "      <td>86.0</td>\n",
       "      <td>60.0</td>\n",
       "      <td>91.0</td>\n",
       "      <td>83.0</td>\n",
       "      <td>...</td>\n",
       "      <td>87.0</td>\n",
       "      <td>38.0</td>\n",
       "      <td>77.0</td>\n",
       "      <td>89.0</td>\n",
       "      <td>45.0</td>\n",
       "      <td>80.0</td>\n",
       "      <td>84.0</td>\n",
       "      <td>88.0</td>\n",
       "      <td>ST</td>\n",
       "      <td>Forward</td>\n",
       "    </tr>\n",
       "    <tr>\n",
       "      <th>4</th>\n",
       "      <td>M. Neuer</td>\n",
       "      <td>31</td>\n",
       "      <td>Germany</td>\n",
       "      <td>92.0</td>\n",
       "      <td>58.0</td>\n",
       "      <td>29.0</td>\n",
       "      <td>52.0</td>\n",
       "      <td>35.0</td>\n",
       "      <td>48.0</td>\n",
       "      <td>70.0</td>\n",
       "      <td>...</td>\n",
       "      <td>25.0</td>\n",
       "      <td>11.0</td>\n",
       "      <td>61.0</td>\n",
       "      <td>44.0</td>\n",
       "      <td>10.0</td>\n",
       "      <td>83.0</td>\n",
       "      <td>70.0</td>\n",
       "      <td>11.0</td>\n",
       "      <td>GK</td>\n",
       "      <td>GoalKeeper</td>\n",
       "    </tr>\n",
       "  </tbody>\n",
       "</table>\n",
       "<p>5 rows × 40 columns</p>\n",
       "</div>"
      ],
      "text/plain": [
       "                Name  Age Nationality  Overall  Acceleration  Aggression  \\\n",
       "0  Cristiano Ronaldo   32    Portugal     94.0          89.0        63.0   \n",
       "1           L. Messi   30   Argentina     93.0          92.0        48.0   \n",
       "2             Neymar   25      Brazil     92.0          94.0        56.0   \n",
       "3          L. Suárez   30     Uruguay     92.0          88.0        78.0   \n",
       "4           M. Neuer   31     Germany     92.0          58.0        29.0   \n",
       "\n",
       "   Agility  Balance  Ball control  Composure  ...  Shot power  Sliding tackle  \\\n",
       "0     89.0     63.0          93.0       95.0  ...        94.0            23.0   \n",
       "1     90.0     95.0          95.0       96.0  ...        85.0            26.0   \n",
       "2     96.0     82.0          95.0       92.0  ...        80.0            33.0   \n",
       "3     86.0     60.0          91.0       83.0  ...        87.0            38.0   \n",
       "4     52.0     35.0          48.0       70.0  ...        25.0            11.0   \n",
       "\n",
       "   Sprint speed  Stamina  Standing tackle  Strength  Vision  Volleys  \\\n",
       "0          91.0     92.0             31.0      80.0    85.0     88.0   \n",
       "1          87.0     73.0             28.0      59.0    90.0     85.0   \n",
       "2          90.0     78.0             24.0      53.0    80.0     83.0   \n",
       "3          77.0     89.0             45.0      80.0    84.0     88.0   \n",
       "4          61.0     44.0             10.0      83.0    70.0     11.0   \n",
       "\n",
       "   Preferred Positions  Preferred Positions Type  \n",
       "0               ST LW                    Forward  \n",
       "1                  RW                    Forward  \n",
       "2                  LW                    Forward  \n",
       "3                  ST                    Forward  \n",
       "4                  GK                 GoalKeeper  \n",
       "\n",
       "[5 rows x 40 columns]"
      ]
     },
     "execution_count": 2,
     "metadata": {},
     "output_type": "execute_result"
    }
   ],
   "source": [
    "players = pd.read_csv(\"football_players.csv\", encoding = \"latin-1\")\n",
    "players.head()"
   ]
  },
  {
   "cell_type": "markdown",
   "id": "be6b4da6-39dd-40cd-a8d1-b2021d76e703",
   "metadata": {},
   "source": [
    "### Question 38\n",
    "\n",
    "Which Algeria player had the highest overall rating? (2 marks)\n",
    "\n",
    "**R. Mahrez**"
   ]
  },
  {
   "cell_type": "code",
   "execution_count": 3,
   "id": "cd6e124b-6451-463d-a395-344e62ee36de",
   "metadata": {},
   "outputs": [
    {
     "data": {
      "text/plain": [
       "(57, 40)"
      ]
     },
     "execution_count": 3,
     "metadata": {},
     "output_type": "execute_result"
    }
   ],
   "source": [
    "Algeria = players[players[\"Nationality\"] == \"Algeria\"]\n",
    "\n",
    "Algeria.shape"
   ]
  },
  {
   "cell_type": "code",
   "execution_count": 4,
   "id": "d8460ce4-14d9-4921-b14b-5c33f5c20ac7",
   "metadata": {},
   "outputs": [
    {
     "data": {
      "text/plain": [
       "'R. Mahrez'"
      ]
     },
     "execution_count": 4,
     "metadata": {},
     "output_type": "execute_result"
    }
   ],
   "source": [
    "# Find the row with the maximum overall rating\n",
    "highest_rated_player = Algeria.loc[Algeria['Overall'].idxmax()]\n",
    "\n",
    "# Get the player's name\n",
    "player_name = highest_rated_player['Name']\n",
    "\n",
    "player_name"
   ]
  },
  {
   "cell_type": "markdown",
   "id": "87eba3e3-8aab-4d7d-86d6-403dbb1858fa",
   "metadata": {},
   "source": [
    "### Question 39\n",
    "\n",
    "Which back had the highest rating for ‘Sliding tackle’? (2 marks)\n",
    "\n",
    "**Sergio Ramos**"
   ]
  },
  {
   "cell_type": "code",
   "execution_count": 5,
   "id": "7f99d8f8-9189-49b2-a8f2-8d0b303c309c",
   "metadata": {},
   "outputs": [
    {
     "data": {
      "text/plain": [
       "array(['Forward', 'GoalKeeper', 'Midfielder', 'Back'], dtype=object)"
      ]
     },
     "execution_count": 5,
     "metadata": {},
     "output_type": "execute_result"
    }
   ],
   "source": [
    "players[\"Preferred Positions Type\"].unique()"
   ]
  },
  {
   "cell_type": "code",
   "execution_count": 6,
   "id": "e2c4ba28-a8f1-4937-aa50-c94e03f46f35",
   "metadata": {},
   "outputs": [
    {
     "data": {
      "text/html": [
       "<div>\n",
       "<style scoped>\n",
       "    .dataframe tbody tr th:only-of-type {\n",
       "        vertical-align: middle;\n",
       "    }\n",
       "\n",
       "    .dataframe tbody tr th {\n",
       "        vertical-align: top;\n",
       "    }\n",
       "\n",
       "    .dataframe thead th {\n",
       "        text-align: right;\n",
       "    }\n",
       "</style>\n",
       "<table border=\"1\" class=\"dataframe\">\n",
       "  <thead>\n",
       "    <tr style=\"text-align: right;\">\n",
       "      <th></th>\n",
       "      <th>Name</th>\n",
       "      <th>Age</th>\n",
       "      <th>Nationality</th>\n",
       "      <th>Overall</th>\n",
       "      <th>Acceleration</th>\n",
       "      <th>Aggression</th>\n",
       "      <th>Agility</th>\n",
       "      <th>Balance</th>\n",
       "      <th>Ball control</th>\n",
       "      <th>Composure</th>\n",
       "      <th>...</th>\n",
       "      <th>Shot power</th>\n",
       "      <th>Sliding tackle</th>\n",
       "      <th>Sprint speed</th>\n",
       "      <th>Stamina</th>\n",
       "      <th>Standing tackle</th>\n",
       "      <th>Strength</th>\n",
       "      <th>Vision</th>\n",
       "      <th>Volleys</th>\n",
       "      <th>Preferred Positions</th>\n",
       "      <th>Preferred Positions Type</th>\n",
       "    </tr>\n",
       "  </thead>\n",
       "  <tbody>\n",
       "    <tr>\n",
       "      <th>10</th>\n",
       "      <td>Sergio Ramos</td>\n",
       "      <td>31</td>\n",
       "      <td>Spain</td>\n",
       "      <td>90.0</td>\n",
       "      <td>75.0</td>\n",
       "      <td>84.0</td>\n",
       "      <td>79.0</td>\n",
       "      <td>60.0</td>\n",
       "      <td>84.0</td>\n",
       "      <td>80.0</td>\n",
       "      <td>...</td>\n",
       "      <td>79.0</td>\n",
       "      <td>91.0</td>\n",
       "      <td>77.0</td>\n",
       "      <td>84.0</td>\n",
       "      <td>89.0</td>\n",
       "      <td>81.0</td>\n",
       "      <td>63.0</td>\n",
       "      <td>66.0</td>\n",
       "      <td>CB</td>\n",
       "      <td>Back</td>\n",
       "    </tr>\n",
       "    <tr>\n",
       "      <th>17</th>\n",
       "      <td>G. Chiellini</td>\n",
       "      <td>32</td>\n",
       "      <td>Italy</td>\n",
       "      <td>89.0</td>\n",
       "      <td>68.0</td>\n",
       "      <td>92.0</td>\n",
       "      <td>59.0</td>\n",
       "      <td>64.0</td>\n",
       "      <td>57.0</td>\n",
       "      <td>82.0</td>\n",
       "      <td>...</td>\n",
       "      <td>78.0</td>\n",
       "      <td>90.0</td>\n",
       "      <td>78.0</td>\n",
       "      <td>68.0</td>\n",
       "      <td>92.0</td>\n",
       "      <td>91.0</td>\n",
       "      <td>50.0</td>\n",
       "      <td>45.0</td>\n",
       "      <td>CB</td>\n",
       "      <td>Back</td>\n",
       "    </tr>\n",
       "    <tr>\n",
       "      <th>24</th>\n",
       "      <td>L. Bonucci</td>\n",
       "      <td>30</td>\n",
       "      <td>Italy</td>\n",
       "      <td>88.0</td>\n",
       "      <td>62.0</td>\n",
       "      <td>82.0</td>\n",
       "      <td>60.0</td>\n",
       "      <td>52.0</td>\n",
       "      <td>75.0</td>\n",
       "      <td>84.0</td>\n",
       "      <td>...</td>\n",
       "      <td>74.0</td>\n",
       "      <td>88.0</td>\n",
       "      <td>72.0</td>\n",
       "      <td>73.0</td>\n",
       "      <td>88.0</td>\n",
       "      <td>85.0</td>\n",
       "      <td>74.0</td>\n",
       "      <td>58.0</td>\n",
       "      <td>CB</td>\n",
       "      <td>Back</td>\n",
       "    </tr>\n",
       "    <tr>\n",
       "      <th>25</th>\n",
       "      <td>J. Boateng</td>\n",
       "      <td>28</td>\n",
       "      <td>Germany</td>\n",
       "      <td>88.0</td>\n",
       "      <td>72.0</td>\n",
       "      <td>82.0</td>\n",
       "      <td>58.0</td>\n",
       "      <td>53.0</td>\n",
       "      <td>71.0</td>\n",
       "      <td>86.0</td>\n",
       "      <td>...</td>\n",
       "      <td>79.0</td>\n",
       "      <td>90.0</td>\n",
       "      <td>78.0</td>\n",
       "      <td>74.0</td>\n",
       "      <td>91.0</td>\n",
       "      <td>91.0</td>\n",
       "      <td>76.0</td>\n",
       "      <td>53.0</td>\n",
       "      <td>CB</td>\n",
       "      <td>Back</td>\n",
       "    </tr>\n",
       "    <tr>\n",
       "      <th>26</th>\n",
       "      <td>D. Godín</td>\n",
       "      <td>31</td>\n",
       "      <td>Uruguay</td>\n",
       "      <td>88.0</td>\n",
       "      <td>62.0</td>\n",
       "      <td>86.0</td>\n",
       "      <td>63.0</td>\n",
       "      <td>58.0</td>\n",
       "      <td>76.0</td>\n",
       "      <td>82.0</td>\n",
       "      <td>...</td>\n",
       "      <td>67.0</td>\n",
       "      <td>89.0</td>\n",
       "      <td>67.0</td>\n",
       "      <td>67.0</td>\n",
       "      <td>86.0</td>\n",
       "      <td>80.0</td>\n",
       "      <td>52.0</td>\n",
       "      <td>47.0</td>\n",
       "      <td>CB</td>\n",
       "      <td>Back</td>\n",
       "    </tr>\n",
       "  </tbody>\n",
       "</table>\n",
       "<p>5 rows × 40 columns</p>\n",
       "</div>"
      ],
      "text/plain": [
       "            Name  Age Nationality  Overall  Acceleration  Aggression  Agility  \\\n",
       "10  Sergio Ramos   31       Spain     90.0          75.0        84.0     79.0   \n",
       "17  G. Chiellini   32       Italy     89.0          68.0        92.0     59.0   \n",
       "24    L. Bonucci   30       Italy     88.0          62.0        82.0     60.0   \n",
       "25    J. Boateng   28     Germany     88.0          72.0        82.0     58.0   \n",
       "26      D. Godín   31     Uruguay     88.0          62.0        86.0     63.0   \n",
       "\n",
       "    Balance  Ball control  Composure  ...  Shot power  Sliding tackle  \\\n",
       "10     60.0          84.0       80.0  ...        79.0            91.0   \n",
       "17     64.0          57.0       82.0  ...        78.0            90.0   \n",
       "24     52.0          75.0       84.0  ...        74.0            88.0   \n",
       "25     53.0          71.0       86.0  ...        79.0            90.0   \n",
       "26     58.0          76.0       82.0  ...        67.0            89.0   \n",
       "\n",
       "    Sprint speed  Stamina  Standing tackle  Strength  Vision  Volleys  \\\n",
       "10          77.0     84.0             89.0      81.0    63.0     66.0   \n",
       "17          78.0     68.0             92.0      91.0    50.0     45.0   \n",
       "24          72.0     73.0             88.0      85.0    74.0     58.0   \n",
       "25          78.0     74.0             91.0      91.0    76.0     53.0   \n",
       "26          67.0     67.0             86.0      80.0    52.0     47.0   \n",
       "\n",
       "    Preferred Positions  Preferred Positions Type  \n",
       "10                  CB                       Back  \n",
       "17                  CB                       Back  \n",
       "24                  CB                       Back  \n",
       "25                  CB                       Back  \n",
       "26                  CB                       Back  \n",
       "\n",
       "[5 rows x 40 columns]"
      ]
     },
     "execution_count": 6,
     "metadata": {},
     "output_type": "execute_result"
    }
   ],
   "source": [
    "defenders = players[players[\"Preferred Positions Type\"] == \"Back\"]\n",
    "\n",
    "defenders.head()"
   ]
  },
  {
   "cell_type": "code",
   "execution_count": 7,
   "id": "4bb12f11-255b-4d58-b296-1bd9892c9734",
   "metadata": {},
   "outputs": [
    {
     "data": {
      "text/plain": [
       "('Sergio Ramos', 91.0)"
      ]
     },
     "execution_count": 7,
     "metadata": {},
     "output_type": "execute_result"
    }
   ],
   "source": [
    "# Find the row with the maximum sliding tackle rating\n",
    "best_sliding_tackle = defenders.loc[defenders['Sliding tackle'].idxmax()]\n",
    "\n",
    "# Get the back's name and sliding tackle rating\n",
    "back_name = best_sliding_tackle['Name']\n",
    "sliding_tackle_rating = best_sliding_tackle['Sliding tackle']\n",
    "\n",
    "back_name, sliding_tackle_rating"
   ]
  },
  {
   "cell_type": "markdown",
   "id": "ee22daa9-4dd5-4cb3-bc26-cbfb0373ddce",
   "metadata": {},
   "source": [
    "### Question 40\n",
    "\n",
    "Which preferred position type of England has on average the highest overall rating? (2 marks)\n",
    "\n",
    "**Back**"
   ]
  },
  {
   "cell_type": "code",
   "execution_count": 8,
   "id": "30c8f78e-dde8-48be-8924-8ca8f78dd3ce",
   "metadata": {},
   "outputs": [
    {
     "data": {
      "text/plain": [
       "('Back', 63.6691042047532)"
      ]
     },
     "execution_count": 8,
     "metadata": {},
     "output_type": "execute_result"
    }
   ],
   "source": [
    "# Filter the players dataframe for England players\n",
    "England = players[players[\"Nationality\"] == \"England\"]\n",
    "\n",
    "# Group by 'Preferred Positions Type' and calculate the mean 'Overall' rating\n",
    "average_ratings = England.groupby('Preferred Positions Type')['Overall'].mean()\n",
    "\n",
    "# Find the position type with the highest average overall rating\n",
    "highest_avg_rating_position = average_ratings.idxmax()\n",
    "highest_avg_rating = average_ratings.max()\n",
    "\n",
    "highest_avg_rating_position, highest_avg_rating\n"
   ]
  },
  {
   "cell_type": "code",
   "execution_count": 9,
   "id": "f60160f9-e0a2-4f6c-a803-fc2077ae0653",
   "metadata": {},
   "outputs": [
    {
     "data": {
      "text/plain": [
       "Preferred Positions Type\n",
       "Back          63.669104\n",
       "Forward       62.513245\n",
       "GoalKeeper    61.078652\n",
       "Midfielder    63.393035\n",
       "Name: Overall, dtype: float64"
      ]
     },
     "execution_count": 9,
     "metadata": {},
     "output_type": "execute_result"
    }
   ],
   "source": [
    "average_ratings"
   ]
  },
  {
   "cell_type": "markdown",
   "id": "077c9470-648a-4974-b62e-104eb73d693e",
   "metadata": {},
   "source": [
    "### Question 41\n",
    "\n",
    "Brazil’s forwards have a higher average overall rating than the backs (1 mark)\n",
    "\n",
    "**False**"
   ]
  },
  {
   "cell_type": "code",
   "execution_count": 10,
   "id": "5cc95eaf-96d8-4d12-beb4-bb621e768a03",
   "metadata": {},
   "outputs": [
    {
     "data": {
      "text/plain": [
       "False"
      ]
     },
     "execution_count": 10,
     "metadata": {},
     "output_type": "execute_result"
    }
   ],
   "source": [
    "# Filter the players dataframe for Brazil players\n",
    "brazil = players[players[\"Nationality\"] == \"Brazil\"]\n",
    "\n",
    "# Separate forwards and backs\n",
    "brazil_forwards = brazil[brazil[\"Preferred Positions Type\"] == \"Forward\"]\n",
    "brazil_backs = brazil[brazil[\"Preferred Positions Type\"] == \"Back\"]\n",
    "\n",
    "# Calculate the average overall rating for both position types\n",
    "avg_rating_forwards = brazil_forwards[\"Overall\"].mean()\n",
    "avg_rating_backs = brazil_backs[\"Overall\"].mean()\n",
    "\n",
    "# Check if forwards have a higher average overall rating than backs\n",
    "avg_rating_forwards > avg_rating_backs"
   ]
  },
  {
   "cell_type": "code",
   "execution_count": 11,
   "id": "2aa43fad-50af-4f72-81a3-9cdff3c8ce76",
   "metadata": {},
   "outputs": [
    {
     "data": {
      "text/plain": [
       "Preferred Positions Type\n",
       "Back          71.490975\n",
       "Forward       70.028902\n",
       "GoalKeeper    71.611940\n",
       "Midfielder    70.681356\n",
       "Name: Overall, dtype: float64"
      ]
     },
     "execution_count": 11,
     "metadata": {},
     "output_type": "execute_result"
    }
   ],
   "source": [
    "average_ratings_brazil = brazil.groupby('Preferred Positions Type')['Overall'].mean()\n",
    "\n",
    "average_ratings_brazil"
   ]
  },
  {
   "cell_type": "markdown",
   "id": "eb6d632a-6b2c-40ee-95ed-9e34aede9f77",
   "metadata": {},
   "source": [
    "### Question 42\n",
    "\n",
    "Which country has the oldest player? (2 marks)\n",
    "\n",
    "**England**"
   ]
  },
  {
   "cell_type": "code",
   "execution_count": 12,
   "id": "863ea27d-aa9c-4e5e-9874-16554143bffb",
   "metadata": {},
   "outputs": [
    {
     "data": {
      "text/plain": [
       "'England'"
      ]
     },
     "execution_count": 12,
     "metadata": {},
     "output_type": "execute_result"
    }
   ],
   "source": [
    "# Find the maximum age in the dataframe\n",
    "max_age = players['Age'].max()\n",
    "\n",
    "# Find the row(s) with the maximum age\n",
    "oldest_player = players[players['Age'] == max_age]\n",
    "\n",
    "# Extract the country of the oldest player\n",
    "oldest_country = oldest_player['Nationality'].values[0]\n",
    "\n",
    "oldest_country\n"
   ]
  },
  {
   "cell_type": "markdown",
   "id": "af1f6acd-457a-48e3-8bfd-a9670d13ba28",
   "metadata": {},
   "source": [
    "### Question 43\n",
    "\n",
    "Which of the following attributes is on average the lowest for goalkeepers? (3 marks)\n",
    "\n",
    "**Gk kicking**"
   ]
  },
  {
   "cell_type": "code",
   "execution_count": 18,
   "id": "f9359950-d98c-4bf3-8486-94bb75bc10bc",
   "metadata": {},
   "outputs": [
    {
     "data": {
      "text/plain": [
       "GK diving      62.988157\n",
       "GK handling    60.675983\n",
       "GK reflexes    63.848887\n",
       "GK kicking     59.424443\n",
       "dtype: float64"
      ]
     },
     "execution_count": 18,
     "metadata": {},
     "output_type": "execute_result"
    }
   ],
   "source": [
    "# Filter the players dataframe for goalkeepers\n",
    "gk = players[players[\"Preferred Positions Type\"] == \"GoalKeeper\"]\n",
    "\n",
    "gk_attibutes = gk[[\"GK diving\", \"GK handling\", \"GK reflexes\", \"GK kicking\"]]\n",
    "\n",
    "gk_attibutes.mean()"
   ]
  },
  {
   "cell_type": "markdown",
   "id": "adac435c-9a4f-46f4-b7c9-c56ef320b336",
   "metadata": {},
   "source": [
    "### Question 44\n",
    "\n",
    "Which preferred positions type has the most entries in this dataset? (3 marks)\n",
    "\n",
    "**Midfielder**"
   ]
  },
  {
   "cell_type": "code",
   "execution_count": 19,
   "id": "928e79c5-8544-4c8f-b6ba-0ea938fad67d",
   "metadata": {},
   "outputs": [
    {
     "data": {
      "text/plain": [
       "('Midfielder', 6769)"
      ]
     },
     "execution_count": 19,
     "metadata": {},
     "output_type": "execute_result"
    }
   ],
   "source": [
    "# Count the number of entries for each preferred position type\n",
    "position_counts = players[\"Preferred Positions Type\"].value_counts()\n",
    "\n",
    "# Find the position type with the most entries\n",
    "most_common_position = position_counts.idxmax()\n",
    "most_common_count = position_counts.max()\n",
    "\n",
    "most_common_position, most_common_count"
   ]
  },
  {
   "cell_type": "code",
   "execution_count": 20,
   "id": "705dac18-faf3-4a64-913e-e01acc414cc7",
   "metadata": {},
   "outputs": [
    {
     "data": {
      "text/plain": [
       "Preferred Positions Type\n",
       "Midfielder    6769\n",
       "Back          5848\n",
       "Forward       3253\n",
       "GoalKeeper    2111\n",
       "Name: count, dtype: int64"
      ]
     },
     "execution_count": 20,
     "metadata": {},
     "output_type": "execute_result"
    }
   ],
   "source": [
    "position_counts"
   ]
  },
  {
   "cell_type": "markdown",
   "id": "9ee79d01-bcd9-4cd6-8b3d-d8de5f407a7d",
   "metadata": {},
   "source": [
    "### Question 45\n",
    "Which player from Portugal, that is younger than 25, has the highest overall rating? (3 marks)\n",
    "\n",
    "**Bernado Silva**"
   ]
  },
  {
   "cell_type": "code",
   "execution_count": 21,
   "id": "8a3a4ba3-0312-42db-a837-cdb7150ab913",
   "metadata": {},
   "outputs": [
    {
     "data": {
      "text/plain": [
       "('Bernardo Silva', 84.0)"
      ]
     },
     "execution_count": 21,
     "metadata": {},
     "output_type": "execute_result"
    }
   ],
   "source": [
    "# Filter the players dataframe for Portuguese players younger than 25\n",
    "portuguese_young = players[(players[\"Nationality\"] == \"Portugal\") & (players[\"Age\"] < 25)]\n",
    "\n",
    "# Find the row with the highest overall rating\n",
    "best_young_portuguese_player = portuguese_young.loc[portuguese_young['Overall'].idxmax()]\n",
    "\n",
    "# Extract the player's name and overall rating\n",
    "player_name = best_young_portuguese_player['Name']\n",
    "overall_rating = best_young_portuguese_player['Overall']\n",
    "\n",
    "player_name, overall_rating\n"
   ]
  }
 ],
 "metadata": {
  "kernelspec": {
   "display_name": "Python 3 (ipykernel)",
   "language": "python",
   "name": "python3"
  },
  "language_info": {
   "codemirror_mode": {
    "name": "ipython",
    "version": 3
   },
   "file_extension": ".py",
   "mimetype": "text/x-python",
   "name": "python",
   "nbconvert_exporter": "python",
   "pygments_lexer": "ipython3",
   "version": "3.11.7"
  }
 },
 "nbformat": 4,
 "nbformat_minor": 5
}
